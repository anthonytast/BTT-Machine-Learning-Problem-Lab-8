{
 "cells": [
  {
   "cell_type": "markdown",
   "metadata": {},
   "source": [
    "# Lab 8: Define and Solve an ML Problem of Your Choosing"
   ]
  },
  {
   "cell_type": "code",
   "execution_count": 1,
   "metadata": {},
   "outputs": [],
   "source": [
    "import pandas as pd\n",
    "import numpy as np\n",
    "import os\n",
    "import matplotlib.pyplot as plt\n",
    "import seaborn as sns"
   ]
  },
  {
   "cell_type": "markdown",
   "metadata": {},
   "source": [
    "In this lab assignment, you will follow the machine learning life cycle and implement a model to solve a machine learning problem of your choosing. You will select a data set and choose a predictive problem that the data set supports.  You will then inspect the data with your problem in mind and begin to formulate a  project plan. You will then implement the machine learning project plan. \n",
    "\n",
    "You will complete the following tasks:\n",
    "\n",
    "1. Build Your DataFrame\n",
    "2. Define Your ML Problem\n",
    "3. Perform exploratory data analysis to understand your data.\n",
    "4. Define Your Project Plan\n",
    "5. Implement Your Project Plan:\n",
    "    * Prepare your data for your model.\n",
    "    * Fit your model to the training data and evaluate your model.\n",
    "    * Improve your model's performance."
   ]
  },
  {
   "cell_type": "markdown",
   "metadata": {},
   "source": [
    "## Part 1: Build Your DataFrame\n",
    "\n",
    "You will have the option to choose one of four data sets that you have worked with in this program:\n",
    "\n",
    "* The \"census\" data set that contains Census information from 1994: `censusData.csv`\n",
    "* Airbnb NYC \"listings\" data set: `airbnbListingsData.csv`\n",
    "* World Happiness Report (WHR) data set: `WHR2018Chapter2OnlineData.csv`\n",
    "* Book Review data set: `bookReviewsData.csv`\n",
    "\n",
    "Note that these are variations of the data sets that you have worked with in this program. For example, some do not include some of the preprocessing necessary for specific models. \n",
    "\n",
    "#### Load a Data Set and Save it as a Pandas DataFrame\n",
    "\n",
    "The code cell below contains filenames (path + filename) for each of the four data sets available to you.\n",
    "\n",
    "<b>Task:</b> In the code cell below, use the same method you have been using to load the data using `pd.read_csv()` and save it to DataFrame `df`. \n",
    "\n",
    "You can load each file as a new DataFrame to inspect the data before choosing your data set."
   ]
  },
  {
   "cell_type": "code",
   "execution_count": 2,
   "metadata": {},
   "outputs": [
    {
     "data": {
      "text/html": [
       "<div>\n",
       "<style scoped>\n",
       "    .dataframe tbody tr th:only-of-type {\n",
       "        vertical-align: middle;\n",
       "    }\n",
       "\n",
       "    .dataframe tbody tr th {\n",
       "        vertical-align: top;\n",
       "    }\n",
       "\n",
       "    .dataframe thead th {\n",
       "        text-align: right;\n",
       "    }\n",
       "</style>\n",
       "<table border=\"1\" class=\"dataframe\">\n",
       "  <thead>\n",
       "    <tr style=\"text-align: right;\">\n",
       "      <th></th>\n",
       "      <th>age</th>\n",
       "      <th>workclass</th>\n",
       "      <th>fnlwgt</th>\n",
       "      <th>education</th>\n",
       "      <th>education-num</th>\n",
       "      <th>marital-status</th>\n",
       "      <th>occupation</th>\n",
       "      <th>relationship</th>\n",
       "      <th>race</th>\n",
       "      <th>sex_selfID</th>\n",
       "      <th>capital-gain</th>\n",
       "      <th>capital-loss</th>\n",
       "      <th>hours-per-week</th>\n",
       "      <th>native-country</th>\n",
       "      <th>income_binary</th>\n",
       "    </tr>\n",
       "  </thead>\n",
       "  <tbody>\n",
       "    <tr>\n",
       "      <th>0</th>\n",
       "      <td>39.0</td>\n",
       "      <td>State-gov</td>\n",
       "      <td>77516</td>\n",
       "      <td>Bachelors</td>\n",
       "      <td>13</td>\n",
       "      <td>Never-married</td>\n",
       "      <td>Adm-clerical</td>\n",
       "      <td>Not-in-family</td>\n",
       "      <td>White</td>\n",
       "      <td>Non-Female</td>\n",
       "      <td>2174</td>\n",
       "      <td>0</td>\n",
       "      <td>40.0</td>\n",
       "      <td>United-States</td>\n",
       "      <td>&lt;=50K</td>\n",
       "    </tr>\n",
       "    <tr>\n",
       "      <th>1</th>\n",
       "      <td>50.0</td>\n",
       "      <td>Self-emp-not-inc</td>\n",
       "      <td>83311</td>\n",
       "      <td>Bachelors</td>\n",
       "      <td>13</td>\n",
       "      <td>Married-civ-spouse</td>\n",
       "      <td>Exec-managerial</td>\n",
       "      <td>Husband</td>\n",
       "      <td>White</td>\n",
       "      <td>Non-Female</td>\n",
       "      <td>0</td>\n",
       "      <td>0</td>\n",
       "      <td>13.0</td>\n",
       "      <td>United-States</td>\n",
       "      <td>&lt;=50K</td>\n",
       "    </tr>\n",
       "    <tr>\n",
       "      <th>2</th>\n",
       "      <td>38.0</td>\n",
       "      <td>Private</td>\n",
       "      <td>215646</td>\n",
       "      <td>HS-grad</td>\n",
       "      <td>9</td>\n",
       "      <td>Divorced</td>\n",
       "      <td>Handlers-cleaners</td>\n",
       "      <td>Not-in-family</td>\n",
       "      <td>White</td>\n",
       "      <td>Non-Female</td>\n",
       "      <td>0</td>\n",
       "      <td>0</td>\n",
       "      <td>40.0</td>\n",
       "      <td>United-States</td>\n",
       "      <td>&lt;=50K</td>\n",
       "    </tr>\n",
       "    <tr>\n",
       "      <th>3</th>\n",
       "      <td>53.0</td>\n",
       "      <td>Private</td>\n",
       "      <td>234721</td>\n",
       "      <td>11th</td>\n",
       "      <td>7</td>\n",
       "      <td>Married-civ-spouse</td>\n",
       "      <td>Handlers-cleaners</td>\n",
       "      <td>Husband</td>\n",
       "      <td>Black</td>\n",
       "      <td>Non-Female</td>\n",
       "      <td>0</td>\n",
       "      <td>0</td>\n",
       "      <td>40.0</td>\n",
       "      <td>United-States</td>\n",
       "      <td>&lt;=50K</td>\n",
       "    </tr>\n",
       "    <tr>\n",
       "      <th>4</th>\n",
       "      <td>28.0</td>\n",
       "      <td>Private</td>\n",
       "      <td>338409</td>\n",
       "      <td>Bachelors</td>\n",
       "      <td>13</td>\n",
       "      <td>Married-civ-spouse</td>\n",
       "      <td>Prof-specialty</td>\n",
       "      <td>Wife</td>\n",
       "      <td>Black</td>\n",
       "      <td>Female</td>\n",
       "      <td>0</td>\n",
       "      <td>0</td>\n",
       "      <td>40.0</td>\n",
       "      <td>Cuba</td>\n",
       "      <td>&lt;=50K</td>\n",
       "    </tr>\n",
       "  </tbody>\n",
       "</table>\n",
       "</div>"
      ],
      "text/plain": [
       "    age         workclass  fnlwgt  education  education-num  \\\n",
       "0  39.0         State-gov   77516  Bachelors             13   \n",
       "1  50.0  Self-emp-not-inc   83311  Bachelors             13   \n",
       "2  38.0           Private  215646    HS-grad              9   \n",
       "3  53.0           Private  234721       11th              7   \n",
       "4  28.0           Private  338409  Bachelors             13   \n",
       "\n",
       "       marital-status         occupation   relationship   race  sex_selfID  \\\n",
       "0       Never-married       Adm-clerical  Not-in-family  White  Non-Female   \n",
       "1  Married-civ-spouse    Exec-managerial        Husband  White  Non-Female   \n",
       "2            Divorced  Handlers-cleaners  Not-in-family  White  Non-Female   \n",
       "3  Married-civ-spouse  Handlers-cleaners        Husband  Black  Non-Female   \n",
       "4  Married-civ-spouse     Prof-specialty           Wife  Black      Female   \n",
       "\n",
       "   capital-gain  capital-loss  hours-per-week native-country income_binary  \n",
       "0          2174             0            40.0  United-States         <=50K  \n",
       "1             0             0            13.0  United-States         <=50K  \n",
       "2             0             0            40.0  United-States         <=50K  \n",
       "3             0             0            40.0  United-States         <=50K  \n",
       "4             0             0            40.0           Cuba         <=50K  "
      ]
     },
     "execution_count": 2,
     "metadata": {},
     "output_type": "execute_result"
    }
   ],
   "source": [
    "# File names of the four data sets\n",
    "adultDataSet_filename = os.path.join(os.getcwd(), \"data\", \"censusData.csv\")\n",
    "airbnbDataSet_filename = os.path.join(os.getcwd(), \"data\", \"airbnbListingsData.csv\")\n",
    "WHRDataSet_filename = os.path.join(os.getcwd(), \"data\", \"WHR2018Chapter2OnlineData.csv\")\n",
    "bookReviewDataSet_filename = os.path.join(os.getcwd(), \"data\", \"bookReviewsData.csv\")\n",
    "\n",
    "\n",
    "df = pd.read_csv(adultDataSet_filename)\n",
    "\n",
    "df.head()\n",
    "# df['income_binary'].unique()\n",
    "# df['income_binary'].value_counts()\n",
    "# list[df.columns]"
   ]
  },
  {
   "cell_type": "markdown",
   "metadata": {},
   "source": [
    "## Part 2: Define Your ML Problem\n",
    "\n",
    "Next you will formulate your ML Problem. In the markdown cell below, answer the following questions:\n",
    "\n",
    "1. List the data set you have chosen.\n",
    "2. What will you be predicting? What is the label?\n",
    "3. Is this a supervised or unsupervised learning problem? Is this a clustering, classification or regression problem? Is it a binary classificaiton or multi-class classifiction problem?\n",
    "4. What are your features? (note: this list may change after your explore your data)\n",
    "5. Explain why this is an important problem. In other words, how would a company create value with a model that predicts this label?"
   ]
  },
  {
   "cell_type": "markdown",
   "metadata": {},
   "source": [
    "**Markdown Cell**\n",
    "1. I will be using the adultDataSet\n",
    "2. I will be predicting the binary income of an individual. The label is `income_binary`\n",
    "3. This a supervised learning problem. It is a binary classification problem. The classes are '<=50K' and '>50K' \n",
    "4. My current list of features: 'age', 'workclass', 'fnlwgt', 'education', 'education-num', 'marital-status', 'occupation', 'relationship', 'race', 'sex_selfID', 'capital-gain', 'capital-loss', 'hours-per-week', 'native-country'\n",
    "5. This is an important problem, as it can be applied to multiple situations. Predicting one's income can help the government identify individuals for aid such as FASFA, or potentially higher forms of aid if this individual is living alone and stuggling to pay for rent or food. A prediction model can also point out societal issues in which individuals of a certain race or gender are more likely to be struggling while others working a similar job or position are less likely to be struggling"
   ]
  },
  {
   "cell_type": "markdown",
   "metadata": {},
   "source": [
    "## Part 3: Understand Your Data\n",
    "\n",
    "The next step is to perform exploratory data analysis. Inspect and analyze your data set with your machine learning problem in mind. Consider the following as you inspect your data:\n",
    "\n",
    "1. What data preparation techniques would you like to use? These data preparation techniques may include:\n",
    "\n",
    "    * addressing missingness, such as replacing missing values with means\n",
    "    * finding and replacing outliers\n",
    "    * renaming features and labels\n",
    "    * finding and replacing outliers\n",
    "    * performing feature engineering techniques such as one-hot encoding on categorical features\n",
    "    * selecting appropriate features and removing irrelevant features\n",
    "    * performing specific data cleaning and preprocessing techniques for an NLP problem\n",
    "    * addressing class imbalance in your data sample to promote fair AI\n",
    "    \n",
    "\n",
    "2. What machine learning model (or models) you would like to use that is suitable for your predictive problem and data?\n",
    "    * Are there other data preparation techniques that you will need to apply to build a balanced modeling data set for your problem and model? For example, will you need to scale your data?\n",
    " \n",
    " \n",
    "3. How will you evaluate and improve the model's performance?\n",
    "    * Are there specific evaluation metrics and methods that are appropriate for your model?\n",
    "    \n",
    "\n",
    "Think of the different techniques you have used to inspect and analyze your data in this course. These include using Pandas to apply data filters, using the Pandas `describe()` method to get insight into key statistics for each column, using the Pandas `dtypes` property to inspect the data type of each column, and using Matplotlib and Seaborn to detect outliers and visualize relationships between features and labels. If you are working on a classification problem, use techniques you have learned to determine if there is class imbalance.\n",
    "\n",
    "<b>Task</b>: Use the techniques you have learned in this course to inspect and analyze your data. You can import additional packages that you have used in this course that you will need to perform this task.\n",
    "\n",
    "<b>Note</b>: You can add code cells if needed by going to the <b>Insert</b> menu and clicking on <b>Insert Cell Below</b> in the drop-drown menu."
   ]
  },
  {
   "cell_type": "code",
   "execution_count": 3,
   "metadata": {},
   "outputs": [
    {
     "name": "stdout",
     "output_type": "stream",
     "text": [
      "                age        fnlwgt  education-num  capital-gain  capital-loss  \\\n",
      "count  32399.000000  3.256100e+04   32561.000000  32561.000000  32561.000000   \n",
      "mean      38.589216  1.897784e+05      10.080679    615.907773     87.303830   \n",
      "std       13.647862  1.055500e+05       2.572720   2420.191974    402.960219   \n",
      "min       17.000000  1.228500e+04       1.000000      0.000000      0.000000   \n",
      "25%       28.000000  1.178270e+05       9.000000      0.000000      0.000000   \n",
      "50%       37.000000  1.783560e+05      10.000000      0.000000      0.000000   \n",
      "75%       48.000000  2.370510e+05      12.000000      0.000000      0.000000   \n",
      "max       90.000000  1.484705e+06      16.000000  14084.000000   4356.000000   \n",
      "\n",
      "       hours-per-week  \n",
      "count    32236.000000  \n",
      "mean        40.450428  \n",
      "std         12.353748  \n",
      "min          1.000000  \n",
      "25%         40.000000  \n",
      "50%         40.000000  \n",
      "75%         45.000000  \n",
      "max         99.000000  \n",
      "-----\n",
      "age               float64\n",
      "workclass          object\n",
      "fnlwgt              int64\n",
      "education          object\n",
      "education-num       int64\n",
      "marital-status     object\n",
      "occupation         object\n",
      "relationship       object\n",
      "race               object\n",
      "sex_selfID         object\n",
      "capital-gain        int64\n",
      "capital-loss        int64\n",
      "hours-per-week    float64\n",
      "native-country     object\n",
      "income_binary      object\n",
      "dtype: object\n",
      "-----\n",
      "age                162\n",
      "workclass         1836\n",
      "fnlwgt               0\n",
      "education            0\n",
      "education-num        0\n",
      "marital-status       0\n",
      "occupation        1843\n",
      "relationship         0\n",
      "race                 0\n",
      "sex_selfID           0\n",
      "capital-gain         0\n",
      "capital-loss         0\n",
      "hours-per-week     325\n",
      "native-country     583\n",
      "income_binary        0\n",
      "dtype: int64\n"
     ]
    }
   ],
   "source": [
    "# YOUR CODE HERE\n",
    "print(df.describe())\n",
    "print(\"-----\")\n",
    "print(df.dtypes)\n",
    "print(\"-----\")\n",
    "print(df.isna().sum())"
   ]
  },
  {
   "cell_type": "markdown",
   "metadata": {},
   "source": [
    "## Part 4: Define Your Project Plan\n",
    "\n",
    "Now that you understand your data, in the markdown cell below, define your plan to implement the remaining phases of the machine learning life cycle (data preparation, modeling, evaluation) to solve your ML problem. Answer the following questions:\n",
    "\n",
    "* Do you have a new feature list? If so, what are the features that you chose to keep and remove after inspecting the data? \n",
    "* Explain different data preparation techniques that you will use to prepare your data for modeling.\n",
    "* What is your model (or models)?\n",
    "* Describe your plan to train your model, analyze its performance and then improve the model. That is, describe your model building, validation and selection plan to produce a model that generalizes well to new data. "
   ]
  },
  {
   "cell_type": "markdown",
   "metadata": {},
   "source": [
    "**Markdown Cell**\n",
    "* My feature list will consist of all the features from my data frame that are integer or float values to train my linear regression model\n",
    "* I will prepare my data by filling in null number values with their mean. I will then one hot encode string values with a limited amount of unique values.\n",
    "* My model is a linear regression model that produces a binary classification on an individual's income\n",
    "* I plan on training my model and testing it as we did in our past labs by using the train_test_split method to split my data frame and view its performance. I will then validate my model using log loss and accuracy plots, as well as a grid search to ensure my model uses the best parameters possible. I will view the accuracy scores of my model on my testing data"
   ]
  },
  {
   "cell_type": "markdown",
   "metadata": {},
   "source": [
    "## Part 5: Implement Your Project Plan\n",
    "\n",
    "<b>Task:</b> In the code cell below, import additional packages that you have used in this course that you will need to implement your project plan."
   ]
  },
  {
   "cell_type": "code",
   "execution_count": 4,
   "metadata": {},
   "outputs": [],
   "source": [
    "from sklearn.linear_model import LogisticRegression\n",
    "from sklearn.model_selection import train_test_split \n",
    "from sklearn.metrics import log_loss\n",
    "from sklearn.metrics import accuracy_score\n",
    "from sklearn.preprocessing import StandardScaler\n",
    "from sklearn.model_selection import GridSearchCV"
   ]
  },
  {
   "cell_type": "markdown",
   "metadata": {},
   "source": [
    "<b>Task:</b> Use the rest of this notebook to carry out your project plan. \n",
    "\n",
    "You will:\n",
    "\n",
    "1. Prepare your data for your model.\n",
    "2. Fit your model to the training data and evaluate your model.\n",
    "3. Improve your model's performance by performing model selection and/or feature selection techniques to find best model for your problem.\n",
    "\n",
    "Add code cells below and populate the notebook with commentary, code, analyses, results, and figures as you see fit. "
   ]
  },
  {
   "cell_type": "markdown",
   "metadata": {},
   "source": [
    "### Step 1: Cleaning the Data\n",
    "(referenced from Lab 2)"
   ]
  },
  {
   "cell_type": "code",
   "execution_count": 5,
   "metadata": {},
   "outputs": [
    {
     "data": {
      "text/plain": [
       "age                True\n",
       "workclass         False\n",
       "fnlwgt            False\n",
       "education         False\n",
       "education-num     False\n",
       "marital-status    False\n",
       "occupation        False\n",
       "relationship      False\n",
       "race              False\n",
       "sex_selfID        False\n",
       "capital-gain      False\n",
       "capital-loss      False\n",
       "hours-per-week     True\n",
       "native-country    False\n",
       "income_binary     False\n",
       "dtype: bool"
      ]
     },
     "execution_count": 5,
     "metadata": {},
     "output_type": "execute_result"
    }
   ],
   "source": [
    "nan_count = df.isna().sum()\n",
    "nan_detected = df.isna().any()\n",
    "\n",
    "is_int_or_float = df.dtypes.apply(lambda dt: dt == 'int64' or dt == 'float64')\n",
    "to_impute = nan_detected & is_int_or_float\n",
    "\n",
    "to_impute"
   ]
  },
  {
   "cell_type": "code",
   "execution_count": 6,
   "metadata": {},
   "outputs": [
    {
     "name": "stdout",
     "output_type": "stream",
     "text": [
      "age missing values count :0\n",
      "workclass missing values count :1836\n",
      "fnlwgt missing values count :0\n",
      "education missing values count :0\n",
      "education-num missing values count :0\n",
      "marital-status missing values count :0\n",
      "occupation missing values count :1843\n",
      "relationship missing values count :0\n",
      "race missing values count :0\n",
      "sex_selfID missing values count :0\n",
      "capital-gain missing values count :0\n",
      "capital-loss missing values count :0\n",
      "hours-per-week missing values count :0\n",
      "native-country missing values count :583\n",
      "income_binary missing values count :0\n",
      "age_na missing values count :0\n",
      "hours-per-week_na missing values count :0\n"
     ]
    }
   ],
   "source": [
    "to_impute_selected = [\"age\", \"hours-per-week\"]\n",
    "\n",
    "for col in to_impute_selected:\n",
    "     df[f\"{col}_na\"] = df[col].isna()\n",
    "\n",
    "for col in to_impute_selected:\n",
    "    df[col].fillna(df[col].mean(), inplace=True)\n",
    "\n",
    "for colname in df.columns.tolist():\n",
    "    print(\"{} missing values count :{}\".format(colname, np.sum(df[colname].isnull(), axis = 0)))"
   ]
  },
  {
   "cell_type": "code",
   "execution_count": 7,
   "metadata": {},
   "outputs": [
    {
     "name": "stdout",
     "output_type": "stream",
     "text": [
      "age missing values count :0\n",
      "workclass missing values count :0\n",
      "fnlwgt missing values count :0\n",
      "education missing values count :0\n",
      "education-num missing values count :0\n",
      "marital-status missing values count :0\n",
      "occupation missing values count :0\n",
      "relationship missing values count :0\n",
      "race missing values count :0\n",
      "sex_selfID missing values count :0\n",
      "capital-gain missing values count :0\n",
      "capital-loss missing values count :0\n",
      "hours-per-week missing values count :0\n",
      "native-country missing values count :0\n",
      "income_binary missing values count :0\n",
      "age_na missing values count :0\n",
      "hours-per-week_na missing values count :0\n"
     ]
    }
   ],
   "source": [
    "null_str_cols = ['workclass', 'occupation', 'native-country']\n",
    "\n",
    "for col in null_str_cols:\n",
    "    df[col].fillna('unavailable', inplace=True)\n",
    "\n",
    "for colname in df.columns.tolist():\n",
    "    print(\"{} missing values count :{}\".format(colname, np.sum(df[colname].isnull(), axis = 0)))"
   ]
  },
  {
   "cell_type": "markdown",
   "metadata": {},
   "source": [
    "### Step 2: One Hot Encoding the Data\n",
    "(referenced Lab 2)"
   ]
  },
  {
   "cell_type": "code",
   "execution_count": 8,
   "metadata": {},
   "outputs": [
    {
     "data": {
      "text/plain": [
       "workclass          9\n",
       "education         16\n",
       "marital-status     7\n",
       "occupation        15\n",
       "relationship       6\n",
       "race               5\n",
       "sex_selfID         2\n",
       "native-country    42\n",
       "income_binary      2\n",
       "dtype: int64"
      ]
     },
     "execution_count": 8,
     "metadata": {},
     "output_type": "execute_result"
    }
   ],
   "source": [
    "df.select_dtypes(include='object').nunique()"
   ]
  },
  {
   "cell_type": "code",
   "execution_count": 9,
   "metadata": {},
   "outputs": [
    {
     "name": "stdout",
     "output_type": "stream",
     "text": [
      "workclass ['State-gov' 'Self-emp-not-inc' 'Private' 'Federal-gov' 'Local-gov'\n",
      " 'unavailable' 'Self-emp-inc' 'Without-pay' 'Never-worked']\n",
      "['workclass_Federal-gov', 'workclass_Local-gov', 'workclass_Never-worked', 'workclass_Private', 'workclass_Self-emp-inc', 'workclass_Self-emp-not-inc', 'workclass_State-gov', 'workclass_Without-pay', 'workclass_unavailable']\n",
      "\n",
      "education ['Bachelors' 'HS-grad' '11th' 'Masters' '9th' 'Some-college' 'Assoc-acdm'\n",
      " 'Assoc-voc' '7th-8th' 'Doctorate' 'Prof-school' '5th-6th' '10th'\n",
      " '1st-4th' 'Preschool' '12th']\n",
      "['education_10th', 'education_11th', 'education_12th', 'education_1st-4th', 'education_5th-6th', 'education_7th-8th', 'education_9th', 'education_Assoc-acdm', 'education_Assoc-voc', 'education_Bachelors', 'education_Doctorate', 'education_HS-grad', 'education_Masters', 'education_Preschool', 'education_Prof-school', 'education_Some-college']\n",
      "\n",
      "marital-status ['Never-married' 'Married-civ-spouse' 'Divorced' 'Married-spouse-absent'\n",
      " 'Separated' 'Married-AF-spouse' 'Widowed']\n",
      "['marital-status_Divorced', 'marital-status_Married-AF-spouse', 'marital-status_Married-civ-spouse', 'marital-status_Married-spouse-absent', 'marital-status_Never-married', 'marital-status_Separated', 'marital-status_Widowed']\n",
      "\n",
      "occupation ['Adm-clerical' 'Exec-managerial' 'Handlers-cleaners' 'Prof-specialty'\n",
      " 'Other-service' 'Sales' 'Craft-repair' 'Transport-moving'\n",
      " 'Farming-fishing' 'Machine-op-inspct' 'Tech-support' 'unavailable'\n",
      " 'Protective-serv' 'Armed-Forces' 'Priv-house-serv']\n",
      "['occupation_Adm-clerical', 'occupation_Armed-Forces', 'occupation_Craft-repair', 'occupation_Exec-managerial', 'occupation_Farming-fishing', 'occupation_Handlers-cleaners', 'occupation_Machine-op-inspct', 'occupation_Other-service', 'occupation_Priv-house-serv', 'occupation_Prof-specialty', 'occupation_Protective-serv', 'occupation_Sales', 'occupation_Tech-support', 'occupation_Transport-moving', 'occupation_unavailable']\n",
      "\n",
      "relationship ['Not-in-family' 'Husband' 'Wife' 'Own-child' 'Unmarried' 'Other-relative']\n",
      "['relationship_Husband', 'relationship_Not-in-family', 'relationship_Other-relative', 'relationship_Own-child', 'relationship_Unmarried', 'relationship_Wife']\n",
      "\n",
      "race ['White' 'Black' 'Asian-Pac-Islander' 'Amer-Indian-Inuit' 'Other']\n",
      "['race_Amer-Indian-Inuit', 'race_Asian-Pac-Islander', 'race_Black', 'race_Other', 'race_White']\n",
      "\n",
      "sex_selfID ['Non-Female' 'Female']\n",
      "['sex_selfID_Female', 'sex_selfID_Non-Female']\n",
      "\n"
     ]
    }
   ],
   "source": [
    "one_hot_cols = ['workclass', 'education', 'marital-status', 'occupation', 'relationship', 'race', 'sex_selfID']\n",
    "for col in one_hot_cols:\n",
    "    print(col, df[col].unique())\n",
    "    col_dummies = pd.get_dummies(df[col], prefix=col)\n",
    "    df = df.drop(col, axis=1)\n",
    "    df = pd.concat([df, col_dummies], axis=1)\n",
    "    print(list(col_dummies.columns))\n",
    "    print()"
   ]
  },
  {
   "cell_type": "markdown",
   "metadata": {},
   "source": [
    "### Step 3: Train Linear Regression Model\n",
    "(referenced Lab 4)"
   ]
  },
  {
   "cell_type": "markdown",
   "metadata": {},
   "source": [
    "Define X and y"
   ]
  },
  {
   "cell_type": "code",
   "execution_count": 10,
   "metadata": {},
   "outputs": [],
   "source": [
    "feature_list = df.select_dtypes(include=['int64', 'float64']).columns.tolist()\n",
    "X = df[feature_list]\n",
    "y = df['income_binary']"
   ]
  },
  {
   "cell_type": "code",
   "execution_count": 11,
   "metadata": {},
   "outputs": [
    {
     "name": "stdout",
     "output_type": "stream",
     "text": [
      "(21815, 6) (10746, 6) (21815,) (10746,)\n"
     ]
    }
   ],
   "source": [
    "X_train, X_test, y_train, y_test = train_test_split(X, y, test_size=0.33, random_state=123)\n",
    "print(X_train.shape, X_test.shape, y_train.shape, y_test.shape)"
   ]
  },
  {
   "cell_type": "markdown",
   "metadata": {},
   "source": [
    "Scalar to avoid exceeding max iterations (makes for better training)"
   ]
  },
  {
   "cell_type": "code",
   "execution_count": 12,
   "metadata": {},
   "outputs": [],
   "source": [
    "scaler = StandardScaler()\n",
    "X_train = scaler.fit_transform(X_train)\n",
    "X_test = scaler.transform(X_test)"
   ]
  },
  {
   "cell_type": "markdown",
   "metadata": {},
   "source": [
    "Function definition for training and showing results on my Linear Regression model"
   ]
  },
  {
   "cell_type": "code",
   "execution_count": 13,
   "metadata": {},
   "outputs": [],
   "source": [
    "def train_test_LR(X_train, y_train, X_test, y_test, c=1):\n",
    "    model = LogisticRegression(C=c)\n",
    "    model.fit(X_train, y_train)\n",
    "    probability_predictions = model.predict_proba(X_test)\n",
    "    \n",
    "    df_print = pd.DataFrame(probability_predictions, columns = ['Class: False', 'Class: True'])\n",
    "    print('Class Prediction Probabilities: \\n' + df_print[0:5].to_string(index=False))\n",
    "    \n",
    "    l_loss = log_loss(y_test, probability_predictions)\n",
    "    print('Log loss: ' + str(l_loss))\n",
    "    \n",
    "    class_label_predictions = model.predict(X_test)\n",
    "    print('Class labels: ' + str(class_label_predictions[0:5]))\n",
    "    \n",
    "    acc_score = accuracy_score(y_test, class_label_predictions)\n",
    "    \n",
    "    print('Accuracy: ' + str(acc_score))\n",
    "    \n",
    "    return l_loss, acc_score"
   ]
  },
  {
   "cell_type": "code",
   "execution_count": 14,
   "metadata": {},
   "outputs": [
    {
     "name": "stdout",
     "output_type": "stream",
     "text": [
      "Class Prediction Probabilities: \n",
      " Class: False  Class: True\n",
      "     0.760618     0.239382\n",
      "     0.639709     0.360291\n",
      "     0.927886     0.072114\n",
      "     0.321992     0.678008\n",
      "     0.763593     0.236407\n",
      "Log loss: 0.400685855360365\n",
      "Class labels: ['<=50K' '<=50K' '<=50K' '>50K' '<=50K']\n",
      "Accuracy: 0.8164898566908617\n",
      "(0.400685855360365, 0.8164898566908617)\n"
     ]
    }
   ],
   "source": [
    "print(train_test_LR(X_train, y_train, X_test, y_test))"
   ]
  },
  {
   "cell_type": "markdown",
   "metadata": {},
   "source": [
    "### Step 4: Evaluate and Optomize Model\n",
    "(referenced Lab 4)"
   ]
  },
  {
   "cell_type": "code",
   "execution_count": 15,
   "metadata": {},
   "outputs": [
    {
     "data": {
      "text/plain": [
       "[1e-10,\n",
       " 1e-09,\n",
       " 1e-08,\n",
       " 1e-07,\n",
       " 1e-06,\n",
       " 1e-05,\n",
       " 0.0001,\n",
       " 0.001,\n",
       " 0.01,\n",
       " 0.1,\n",
       " 1,\n",
       " 10,\n",
       " 100,\n",
       " 1000,\n",
       " 10000,\n",
       " 100000,\n",
       " 1000000,\n",
       " 10000000,\n",
       " 100000000,\n",
       " 1000000000]"
      ]
     },
     "execution_count": 15,
     "metadata": {},
     "output_type": "execute_result"
    }
   ],
   "source": [
    "cs = [10**i for i in range(-10,10)]\n",
    "cs"
   ]
  },
  {
   "cell_type": "code",
   "execution_count": 16,
   "metadata": {},
   "outputs": [
    {
     "name": "stdout",
     "output_type": "stream",
     "text": [
      "Class Prediction Probabilities: \n",
      " Class: False  Class: True\n",
      "     0.759477     0.240523\n",
      "     0.759477     0.240523\n",
      "     0.759477     0.240523\n",
      "     0.759477     0.240523\n",
      "     0.759477     0.240523\n",
      "Log loss: 0.5526812395115575\n",
      "Class labels: ['<=50K' '<=50K' '<=50K' '<=50K' '<=50K']\n",
      "Accuracy: 0.758607854085241\n",
      "Class Prediction Probabilities: \n",
      " Class: False  Class: True\n",
      "     0.759477     0.240523\n",
      "     0.759477     0.240523\n",
      "     0.759478     0.240522\n",
      "     0.759476     0.240524\n",
      "     0.759477     0.240523\n",
      "Log loss: 0.552679907859819\n",
      "Class labels: ['<=50K' '<=50K' '<=50K' '<=50K' '<=50K']\n",
      "Accuracy: 0.758607854085241\n",
      "Class Prediction Probabilities: \n",
      " Class: False  Class: True\n",
      "     0.759476     0.240524\n",
      "     0.759471     0.240529\n",
      "     0.759484     0.240516\n",
      "     0.759462     0.240538\n",
      "     0.759475     0.240525\n",
      "Log loss: 0.5526665985329406\n",
      "Class labels: ['<=50K' '<=50K' '<=50K' '<=50K' '<=50K']\n",
      "Accuracy: 0.758607854085241\n",
      "Class Prediction Probabilities: \n",
      " Class: False  Class: True\n",
      "     0.759467     0.240533\n",
      "     0.759421     0.240579\n",
      "     0.759551     0.240449\n",
      "     0.759329     0.240671\n",
      "     0.759454     0.240546\n",
      "Log loss: 0.5525336159667105\n",
      "Class labels: ['<=50K' '<=50K' '<=50K' '<=50K' '<=50K']\n",
      "Accuracy: 0.758607854085241\n",
      "Class Prediction Probabilities: \n",
      " Class: False  Class: True\n",
      "     0.759378     0.240622\n",
      "     0.758921     0.241079\n",
      "     0.760207     0.239793\n",
      "     0.757995     0.242005\n",
      "     0.759244     0.240756\n",
      "Log loss: 0.5512141798849485\n",
      "Class labels: ['<=50K' '<=50K' '<=50K' '<=50K' '<=50K']\n",
      "Accuracy: 0.758607854085241\n",
      "Class Prediction Probabilities: \n",
      " Class: False  Class: True\n",
      "     0.758637     0.241363\n",
      "     0.754260     0.245740\n",
      "     0.766526     0.233474\n",
      "     0.745217     0.254783\n",
      "     0.757400     0.242600\n",
      "Log loss: 0.539003293807393\n",
      "Class labels: ['<=50K' '<=50K' '<=50K' '<=50K' '<=50K']\n",
      "Accuracy: 0.758607854085241\n",
      "Class Prediction Probabilities: \n",
      " Class: False  Class: True\n",
      "     0.757284     0.242716\n",
      "     0.727052     0.272948\n",
      "     0.810074     0.189926\n",
      "     0.656865     0.343135\n",
      "     0.751184     0.248816\n",
      "Log loss: 0.4749289296814274\n",
      "Class labels: ['<=50K' '<=50K' '<=50K' '<=50K' '<=50K']\n",
      "Accuracy: 0.7811278615298716\n",
      "Class Prediction Probabilities: \n",
      " Class: False  Class: True\n",
      "     0.757208     0.242792\n",
      "     0.671434     0.328566\n",
      "     0.890679     0.109321\n",
      "     0.445512     0.554488\n",
      "     0.753688     0.246312\n",
      "Log loss: 0.411270353320471\n",
      "Class labels: ['<=50K' '<=50K' '<=50K' '>50K' '<=50K']\n",
      "Accuracy: 0.8140703517587939\n",
      "Class Prediction Probabilities: \n",
      " Class: False  Class: True\n",
      "     0.759562     0.240438\n",
      "     0.644192     0.355808\n",
      "     0.922688     0.077312\n",
      "     0.339904     0.660096\n",
      "     0.761564     0.238436\n",
      "Log loss: 0.4011911736604588\n",
      "Class labels: ['<=50K' '<=50K' '<=50K' '>50K' '<=50K']\n",
      "Accuracy: 0.8159315093988461\n",
      "Class Prediction Probabilities: \n",
      " Class: False  Class: True\n",
      "     0.760444     0.239556\n",
      "     0.640029     0.359971\n",
      "     0.927420     0.072580\n",
      "     0.323532     0.676468\n",
      "     0.763392     0.236608\n",
      "Log loss: 0.4007149092899921\n",
      "Class labels: ['<=50K' '<=50K' '<=50K' '>50K' '<=50K']\n",
      "Accuracy: 0.8165829145728644\n",
      "Class Prediction Probabilities: \n",
      " Class: False  Class: True\n",
      "     0.760618     0.239382\n",
      "     0.639709     0.360291\n",
      "     0.927886     0.072114\n",
      "     0.321992     0.678008\n",
      "     0.763593     0.236407\n",
      "Log loss: 0.400685855360365\n",
      "Class labels: ['<=50K' '<=50K' '<=50K' '>50K' '<=50K']\n",
      "Accuracy: 0.8164898566908617\n",
      "Class Prediction Probabilities: \n",
      " Class: False  Class: True\n",
      "     0.760629     0.239371\n",
      "     0.639667     0.360333\n",
      "     0.927936     0.072064\n",
      "     0.321820     0.678180\n",
      "     0.763615     0.236385\n",
      "Log loss: 0.4006831694876131\n",
      "Class labels: ['<=50K' '<=50K' '<=50K' '>50K' '<=50K']\n",
      "Accuracy: 0.8164898566908617\n",
      "Class Prediction Probabilities: \n",
      " Class: False  Class: True\n",
      "     0.760630     0.239370\n",
      "     0.639663     0.360337\n",
      "     0.927941     0.072059\n",
      "     0.321803     0.678197\n",
      "     0.763617     0.236383\n",
      "Log loss: 0.40068290317819627\n",
      "Class labels: ['<=50K' '<=50K' '<=50K' '>50K' '<=50K']\n",
      "Accuracy: 0.8164898566908617\n",
      "Class Prediction Probabilities: \n",
      " Class: False  Class: True\n",
      "     0.760630     0.239370\n",
      "     0.639662     0.360338\n",
      "     0.927942     0.072058\n",
      "     0.321801     0.678199\n",
      "     0.763617     0.236383\n",
      "Log loss: 0.4006828765700828\n",
      "Class labels: ['<=50K' '<=50K' '<=50K' '>50K' '<=50K']\n",
      "Accuracy: 0.8164898566908617\n",
      "Class Prediction Probabilities: \n",
      " Class: False  Class: True\n",
      "     0.760630     0.239370\n",
      "     0.639662     0.360338\n",
      "     0.927942     0.072058\n",
      "     0.321801     0.678199\n",
      "     0.763617     0.236383\n",
      "Log loss: 0.4006828739094997\n",
      "Class labels: ['<=50K' '<=50K' '<=50K' '>50K' '<=50K']\n",
      "Accuracy: 0.8164898566908617\n",
      "Class Prediction Probabilities: \n",
      " Class: False  Class: True\n",
      "     0.760630     0.239370\n",
      "     0.639662     0.360338\n",
      "     0.927942     0.072058\n",
      "     0.321801     0.678199\n",
      "     0.763617     0.236383\n",
      "Log loss: 0.4006828736434437\n",
      "Class labels: ['<=50K' '<=50K' '<=50K' '>50K' '<=50K']\n",
      "Accuracy: 0.8164898566908617\n",
      "Class Prediction Probabilities: \n",
      " Class: False  Class: True\n",
      "     0.760630     0.239370\n",
      "     0.639662     0.360338\n",
      "     0.927942     0.072058\n",
      "     0.321801     0.678199\n",
      "     0.763617     0.236383\n",
      "Log loss: 0.4006828736168381\n",
      "Class labels: ['<=50K' '<=50K' '<=50K' '>50K' '<=50K']\n",
      "Accuracy: 0.8164898566908617\n",
      "Class Prediction Probabilities: \n",
      " Class: False  Class: True\n",
      "     0.760630     0.239370\n",
      "     0.639662     0.360338\n",
      "     0.927942     0.072058\n",
      "     0.321801     0.678199\n",
      "     0.763617     0.236383\n",
      "Log loss: 0.4006828736141776\n",
      "Class labels: ['<=50K' '<=50K' '<=50K' '>50K' '<=50K']\n",
      "Accuracy: 0.8164898566908617\n",
      "Class Prediction Probabilities: \n",
      " Class: False  Class: True\n",
      "     0.760630     0.239370\n",
      "     0.639662     0.360338\n",
      "     0.927942     0.072058\n",
      "     0.321801     0.678199\n",
      "     0.763617     0.236383\n",
      "Log loss: 0.40068287361391147\n",
      "Class labels: ['<=50K' '<=50K' '<=50K' '>50K' '<=50K']\n",
      "Accuracy: 0.8164898566908617\n",
      "Class Prediction Probabilities: \n",
      " Class: False  Class: True\n",
      "     0.760630     0.239370\n",
      "     0.639662     0.360338\n",
      "     0.927942     0.072058\n",
      "     0.321801     0.678199\n",
      "     0.763617     0.236383\n",
      "Log loss: 0.4006828736138849\n",
      "Class labels: ['<=50K' '<=50K' '<=50K' '>50K' '<=50K']\n",
      "Accuracy: 0.8164898566908617\n"
     ]
    }
   ],
   "source": [
    "c_acc_scores = []\n",
    "c_l_loss = []\n",
    "for c in cs:\n",
    "    loss, acc = train_test_LR(X_train, y_train, X_test, y_test, c)\n",
    "    c_l_loss.append(loss)\n",
    "    c_acc_scores.append(acc)"
   ]
  },
  {
   "cell_type": "code",
   "execution_count": 17,
   "metadata": {},
   "outputs": [
    {
     "name": "stdout",
     "output_type": "stream",
     "text": [
      "[1e-10, 1e-09, 1e-08, 1e-07, 1e-06, 1e-05, 0.0001, 0.001, 0.01, 0.1, 1, 10, 100, 1000, 10000, 100000, 1000000, 10000000, 100000000, 1000000000]\n",
      "[-10.  -9.  -8.  -7.  -6.  -5.  -4.  -3.  -2.  -1.   0.   1.   2.   3.\n",
      "   4.   5.   6.   7.   8.   9.]\n"
     ]
    }
   ],
   "source": [
    "cs_log10 = np.log10(cs)\n",
    "\n",
    "print(cs)\n",
    "print(cs_log10)"
   ]
  },
  {
   "cell_type": "markdown",
   "metadata": {},
   "source": [
    "**Log Loss Plot**"
   ]
  },
  {
   "cell_type": "code",
   "execution_count": 18,
   "metadata": {},
   "outputs": [
    {
     "data": {
      "image/png": "[encoded data removed]",
      "text/plain": [
       "<Figure size 1000x500 with 1 Axes>"
      ]
     },
     "metadata": {},
     "output_type": "display_data"
    }
   ],
   "source": [
    "plt.figure(figsize=(10, 5))\n",
    "sns.lineplot(x=cs_log10, y=c_l_loss, marker='o')\n",
    "\n",
    "plt.xlabel('log10(C)')\n",
    "plt.ylabel('Log Loss')\n",
    "plt.title('Log Loss vs. log10(C)')\n",
    "plt.show()"
   ]
  },
  {
   "cell_type": "markdown",
   "metadata": {},
   "source": [
    "**Accuracy Plot**"
   ]
  },
  {
   "cell_type": "code",
   "execution_count": 19,
   "metadata": {},
   "outputs": [
    {
     "data": {
      "image/png": "[encoded data removed]",
      "text/plain": [
       "<Figure size 1000x500 with 1 Axes>"
      ]
     },
     "metadata": {},
     "output_type": "display_data"
    }
   ],
   "source": [
    "plt.figure(figsize=(10, 5))\n",
    "sns.lineplot(x=cs_log10, y=c_acc_scores, marker='o')\n",
    "\n",
    "plt.xlabel('log10(C)')\n",
    "plt.ylabel('Acc Score')\n",
    "plt.title('Acc Score vs. log10(C)')\n",
    "plt.show()"
   ]
  },
  {
   "cell_type": "markdown",
   "metadata": {},
   "source": [
    "**Grid Search to Confirm Best Params**"
   ]
  },
  {
   "cell_type": "code",
   "execution_count": 20,
   "metadata": {},
   "outputs": [
    {
     "name": "stdout",
     "output_type": "stream",
     "text": [
      "Best C value: 10\n",
      "Best cross-validated accuracy: 0.8147146458858584\n"
     ]
    }
   ],
   "source": [
    "param_grid = {'C': [0.01, 0.1, 1, 10, 100]}\n",
    "\n",
    "model = LogisticRegression()\n",
    "grid_search = GridSearchCV(model, param_grid, cv=5, scoring='accuracy')\n",
    "grid_search.fit(X_train, y_train)\n",
    "\n",
    "print(\"Best C value:\", grid_search.best_params_['C'])\n",
    "print(\"Best cross-validated accuracy:\", grid_search.best_score_)\n",
    "\n",
    "y_pred = grid_search.best_estimator_.predict(X_test)\n",
    "\n",
    "acc_score = accuracy_score(y_test, y_pred)"
   ]
  },
  {
   "cell_type": "markdown",
   "metadata": {},
   "source": [
    "### Results"
   ]
  },
  {
   "cell_type": "markdown",
   "metadata": {},
   "source": [
    "My model has an accuracy rate just above 80%. While not perfect, this model is very successful. My grid search shows C=10 as being the best parameters; my log loss and accuracy plots prove this to be true, where any c value greater than -2 performing well with little improvements as c increases. If my model was performing better, I would look into removing features, but there aren't a surplus of features that would drive up execution costs, so they can remain."
   ]
  },
  {
   "cell_type": "code",
   "execution_count": null,
   "metadata": {},
   "outputs": [],
   "source": []
  }
 ],
 "metadata": {
  "kernelspec": {
   "display_name": "Python 3 (ipykernel)",
   "language": "python",
   "name": "python3"
  },
  "language_info": {
   "codemirror_mode": {
    "name": "ipython",
    "version": 3
   },
   "file_extension": ".py",
   "mimetype": "text/x-python",
   "name": "python",
   "nbconvert_exporter": "python",
   "pygments_lexer": "ipython3",
   "version": "3.9.19"
  },
  "toc": {
   "base_numbering": 1,
   "nav_menu": {},
   "number_sections": false,
   "sideBar": true,
   "skip_h1_title": false,
   "title_cell": "Table of Contents",
   "title_sidebar": "Contents",
   "toc_cell": false,
   "toc_position": {},
   "toc_section_display": true,
   "toc_window_display": false
  },
  "varInspector": {
   "cols": {
    "lenName": 16,
    "lenType": 16,
    "lenVar": 40
   },
   "kernels_config": {
    "python": {
     "delete_cmd_postfix": "",
     "delete_cmd_prefix": "del ",
     "library": "var_list.py",
     "varRefreshCmd": "print(var_dic_list())"
    },
    "r": {
     "delete_cmd_postfix": ") ",
     "delete_cmd_prefix": "rm(",
     "library": "var_list.r",
     "varRefreshCmd": "cat(var_dic_list()) "
    }
   },
   "types_to_exclude": [
    "module",
    "function",
    "builtin_function_or_method",
    "instance",
    "_Feature"
   ],
   "window_display": false
  }
 },
 "nbformat": 4,
 "nbformat_minor": 4
}
